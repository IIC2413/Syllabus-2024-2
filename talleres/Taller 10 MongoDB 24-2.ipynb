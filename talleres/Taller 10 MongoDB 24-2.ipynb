{
 "cells": [
  {
   "cell_type": "markdown",
   "metadata": {
    "id": "OJCc5mm-pwll"
   },
   "source": [
    "Para empezar a utilizar mongodb desde 0, vamos a partir realizando los siguientes pasos:\n",
    "\n",
    "\n",
    "1.   Instalaremos $\\texttt{mongodb}$\n",
    "2.   Inicializaremos el proceso $\\texttt{mongodb}$\n",
    "3.   Instalaremos el comando $\\texttt{gdown}$ para bajar la base de datos en formato json de google drive.\n",
    "4.   Importaremos los datos por linea de comando. Dejaremos los datos en la base de datos $\\texttt{local}$, en la colección $\\texttt{pokedex}$, y le informaremos al comando que los datos vienen como una arreglo de jsons.\n",
    "\n",
    "\n"
   ]
  },
  {
   "cell_type": "code",
   "execution_count": 2,
   "metadata": {
    "colab": {
     "base_uri": "https://localhost:8080/"
    },
    "id": "jez7M4Z9-49z",
    "outputId": "d2f5e16b-7aa3-4bf6-f886-2a274b30c4ec"
   },
   "outputs": [
    {
     "name": "stdout",
     "output_type": "stream",
     "text": [
      "\u001b[33m\r0% [Working]\u001b[0m\r            \rGet:1 http://security.ubuntu.com/ubuntu jammy-security InRelease [129 kB]\n",
      "\u001b[33m\r0% [Connecting to archive.ubuntu.com (185.125.190.83)] [1 InRelease 14.2 kB/129 kB 11%] [Connected t\u001b[0m\r                                                                                                    \rGet:2 https://cloud.r-project.org/bin/linux/ubuntu jammy-cran40/ InRelease [3,626 B]\n",
      "\u001b[33m\r0% [Waiting for headers] [1 InRelease 129 kB/129 kB 100%] [Connected to r2u.stat.illinois.edu (192.1\u001b[0m\u001b[33m\r0% [Waiting for headers] [Waiting for headers] [Waiting for headers] [Connected to ppa.launchpadcont\u001b[0m\r                                                                                                    \rGet:3 https://developer.download.nvidia.com/compute/cuda/repos/ubuntu2204/x86_64  InRelease [1,581 B]\n",
      "Hit:4 http://archive.ubuntu.com/ubuntu jammy InRelease\n",
      "Get:5 https://r2u.stat.illinois.edu/ubuntu jammy InRelease [6,555 B]\n",
      "Get:6 http://archive.ubuntu.com/ubuntu jammy-updates InRelease [128 kB]\n",
      "Hit:7 https://ppa.launchpadcontent.net/deadsnakes/ppa/ubuntu jammy InRelease\n",
      "Hit:8 https://ppa.launchpadcontent.net/graphics-drivers/ppa/ubuntu jammy InRelease\n",
      "Hit:9 https://ppa.launchpadcontent.net/ubuntugis/ppa/ubuntu jammy InRelease\n",
      "Get:10 http://security.ubuntu.com/ubuntu jammy-security/main amd64 Packages [2,424 kB]\n",
      "Get:11 http://archive.ubuntu.com/ubuntu jammy-backports InRelease [127 kB]\n",
      "Get:12 https://developer.download.nvidia.com/compute/cuda/repos/ubuntu2204/x86_64  Packages [1,107 kB]\n",
      "Get:13 https://r2u.stat.illinois.edu/ubuntu jammy/main all Packages [8,472 kB]\n",
      "Get:14 https://r2u.stat.illinois.edu/ubuntu jammy/main amd64 Packages [2,612 kB]\n",
      "Get:15 http://archive.ubuntu.com/ubuntu jammy-updates/universe amd64 Packages [1,452 kB]\n",
      "Get:16 http://archive.ubuntu.com/ubuntu jammy-updates/main amd64 Packages [2,700 kB]\n",
      "Fetched 19.2 MB in 3s (7,186 kB/s)\n",
      "Reading package lists... Done\n",
      "Building dependency tree... Done\n",
      "Reading state information... Done\n",
      "49 packages can be upgraded. Run 'apt list --upgradable' to see them.\n",
      "\u001b[1;33mW: \u001b[0mSkipping acquire of configured file 'main/source/Sources' as repository 'https://r2u.stat.illinois.edu/ubuntu jammy InRelease' does not seem to provide it (sources.list entry misspelt?)\u001b[0m\n",
      "Reading package lists... Done\n",
      "Building dependency tree... Done\n",
      "Reading state information... Done\n",
      "lsb-release is already the newest version (11.1.0ubuntu4).\n",
      "lsb-release set to manually installed.\n",
      "ca-certificates is already the newest version (20240203~22.04.1).\n",
      "curl is already the newest version (7.81.0-1ubuntu1.18).\n",
      "software-properties-common is already the newest version (0.99.22.9).\n",
      "wget is already the newest version (1.21.2-2ubuntu1.1).\n",
      "gnupg2 is already the newest version (2.2.27-3ubuntu2.1).\n",
      "The following NEW packages will be installed:\n",
      "  apt-transport-https\n",
      "0 upgraded, 1 newly installed, 0 to remove and 49 not upgraded.\n",
      "Need to get 1,510 B of archives.\n",
      "After this operation, 170 kB of additional disk space will be used.\n",
      "Get:1 http://archive.ubuntu.com/ubuntu jammy-updates/universe amd64 apt-transport-https all 2.4.13 [1,510 B]\n",
      "Fetched 1,510 B in 0s (7,789 B/s)\n",
      "Selecting previously unselected package apt-transport-https.\n",
      "(Reading database ... 123629 files and directories currently installed.)\n",
      "Preparing to unpack .../apt-transport-https_2.4.13_all.deb ...\n",
      "Unpacking apt-transport-https (2.4.13) ...\n",
      "Setting up apt-transport-https (2.4.13) ...\n",
      "deb [ arch=amd64,arm64 ] https://repo.mongodb.org/apt/ubuntu jammy/mongodb-org/6.0 multiverse\n",
      "Hit:1 http://security.ubuntu.com/ubuntu jammy-security InRelease\n",
      "Hit:2 https://cloud.r-project.org/bin/linux/ubuntu jammy-cran40/ InRelease\n",
      "Hit:3 https://developer.download.nvidia.com/compute/cuda/repos/ubuntu2204/x86_64  InRelease\n",
      "Get:4 https://repo.mongodb.org/apt/ubuntu jammy/mongodb-org/6.0 InRelease [4,009 B]\n",
      "Hit:5 http://archive.ubuntu.com/ubuntu jammy InRelease\n",
      "Hit:6 https://r2u.stat.illinois.edu/ubuntu jammy InRelease\n",
      "Hit:7 http://archive.ubuntu.com/ubuntu jammy-updates InRelease\n",
      "Hit:8 http://archive.ubuntu.com/ubuntu jammy-backports InRelease\n",
      "Hit:9 https://ppa.launchpadcontent.net/deadsnakes/ppa/ubuntu jammy InRelease\n",
      "Hit:10 https://ppa.launchpadcontent.net/graphics-drivers/ppa/ubuntu jammy InRelease\n",
      "Hit:11 https://ppa.launchpadcontent.net/ubuntugis/ppa/ubuntu jammy InRelease\n",
      "Get:12 https://repo.mongodb.org/apt/ubuntu jammy/mongodb-org/6.0/multiverse amd64 Packages [76.5 kB]\n",
      "Get:13 https://repo.mongodb.org/apt/ubuntu jammy/mongodb-org/6.0/multiverse arm64 Packages [73.1 kB]\n",
      "Fetched 154 kB in 2s (93.1 kB/s)\n",
      "Reading package lists... Done\n",
      "Building dependency tree... Done\n",
      "Reading state information... Done\n",
      "49 packages can be upgraded. Run 'apt list --upgradable' to see them.\n",
      "\u001b[1;33mW: \u001b[0mSkipping acquire of configured file 'main/source/Sources' as repository 'https://r2u.stat.illinois.edu/ubuntu jammy InRelease' does not seem to provide it (sources.list entry misspelt?)\u001b[0m\n",
      "Reading package lists... Done\n",
      "Building dependency tree... Done\n",
      "Reading state information... Done\n",
      "The following additional packages will be installed:\n",
      "  mongodb-database-tools mongodb-mongosh mongodb-org-database mongodb-org-database-tools-extra\n",
      "  mongodb-org-mongos mongodb-org-server mongodb-org-shell mongodb-org-tools\n",
      "The following NEW packages will be installed:\n",
      "  mongodb-database-tools mongodb-mongosh mongodb-org mongodb-org-database\n",
      "  mongodb-org-database-tools-extra mongodb-org-mongos mongodb-org-server mongodb-org-shell\n",
      "  mongodb-org-tools\n",
      "0 upgraded, 9 newly installed, 0 to remove and 49 not upgraded.\n",
      "Need to get 155 MB of archives.\n",
      "After this operation, 513 MB of additional disk space will be used.\n",
      "Get:1 https://repo.mongodb.org/apt/ubuntu jammy/mongodb-org/6.0/multiverse amd64 mongodb-database-tools amd64 100.10.0 [46.4 MB]\n",
      "Get:2 https://repo.mongodb.org/apt/ubuntu jammy/mongodb-org/6.0/multiverse amd64 mongodb-mongosh amd64 2.3.3 [54.1 MB]\n",
      "Get:3 https://repo.mongodb.org/apt/ubuntu jammy/mongodb-org/6.0/multiverse amd64 mongodb-org-shell amd64 6.0.19 [2,986 B]\n",
      "Get:4 https://repo.mongodb.org/apt/ubuntu jammy/mongodb-org/6.0/multiverse amd64 mongodb-org-server amd64 6.0.19 [31.7 MB]\n",
      "Get:5 https://repo.mongodb.org/apt/ubuntu jammy/mongodb-org/6.0/multiverse amd64 mongodb-org-mongos amd64 6.0.19 [22.6 MB]\n",
      "Get:6 https://repo.mongodb.org/apt/ubuntu jammy/mongodb-org/6.0/multiverse amd64 mongodb-org-database-tools-extra amd64 6.0.19 [7,778 B]\n",
      "Get:7 https://repo.mongodb.org/apt/ubuntu jammy/mongodb-org/6.0/multiverse amd64 mongodb-org-database amd64 6.0.19 [3,424 B]\n",
      "Get:8 https://repo.mongodb.org/apt/ubuntu jammy/mongodb-org/6.0/multiverse amd64 mongodb-org-tools amd64 6.0.19 [2,772 B]\n",
      "Get:9 https://repo.mongodb.org/apt/ubuntu jammy/mongodb-org/6.0/multiverse amd64 mongodb-org amd64 6.0.19 [2,802 B]\n",
      "Fetched 155 MB in 2s (68.8 MB/s)\n",
      "Selecting previously unselected package mongodb-database-tools.\n",
      "(Reading database ... 123633 files and directories currently installed.)\n",
      "Preparing to unpack .../0-mongodb-database-tools_100.10.0_amd64.deb ...\n",
      "Unpacking mongodb-database-tools (100.10.0) ...\n",
      "Selecting previously unselected package mongodb-mongosh.\n",
      "Preparing to unpack .../1-mongodb-mongosh_2.3.3_amd64.deb ...\n",
      "Unpacking mongodb-mongosh (2.3.3) ...\n",
      "Selecting previously unselected package mongodb-org-shell.\n",
      "Preparing to unpack .../2-mongodb-org-shell_6.0.19_amd64.deb ...\n",
      "Unpacking mongodb-org-shell (6.0.19) ...\n",
      "Selecting previously unselected package mongodb-org-server.\n",
      "Preparing to unpack .../3-mongodb-org-server_6.0.19_amd64.deb ...\n",
      "Unpacking mongodb-org-server (6.0.19) ...\n",
      "Selecting previously unselected package mongodb-org-mongos.\n",
      "Preparing to unpack .../4-mongodb-org-mongos_6.0.19_amd64.deb ...\n",
      "Unpacking mongodb-org-mongos (6.0.19) ...\n",
      "Selecting previously unselected package mongodb-org-database-tools-extra.\n",
      "Preparing to unpack .../5-mongodb-org-database-tools-extra_6.0.19_amd64.deb ...\n",
      "Unpacking mongodb-org-database-tools-extra (6.0.19) ...\n",
      "Selecting previously unselected package mongodb-org-database.\n",
      "Preparing to unpack .../6-mongodb-org-database_6.0.19_amd64.deb ...\n",
      "Unpacking mongodb-org-database (6.0.19) ...\n",
      "Selecting previously unselected package mongodb-org-tools.\n",
      "Preparing to unpack .../7-mongodb-org-tools_6.0.19_amd64.deb ...\n",
      "Unpacking mongodb-org-tools (6.0.19) ...\n",
      "Selecting previously unselected package mongodb-org.\n",
      "Preparing to unpack .../8-mongodb-org_6.0.19_amd64.deb ...\n",
      "Unpacking mongodb-org (6.0.19) ...\n",
      "Setting up mongodb-mongosh (2.3.3) ...\n",
      "Setting up mongodb-org-server (6.0.19) ...\n",
      "Adding system user `mongodb' (UID 104) ...\n",
      "Adding new user `mongodb' (UID 104) with group `nogroup' ...\n",
      "Not creating home directory `/home/mongodb'.\n",
      "Adding group `mongodb' (GID 107) ...\n",
      "Done.\n",
      "Adding user `mongodb' to group `mongodb' ...\n",
      "Adding user mongodb to group mongodb\n",
      "Done.\n",
      "System has not been booted with systemd as init system (PID 1). Can't operate.\n",
      "Failed to connect to bus: Host is down\n",
      "Setting up mongodb-org-shell (6.0.19) ...\n",
      "Setting up mongodb-database-tools (100.10.0) ...\n",
      "Setting up mongodb-org-mongos (6.0.19) ...\n",
      "Setting up mongodb-org-database-tools-extra (6.0.19) ...\n",
      "Setting up mongodb-org-database (6.0.19) ...\n",
      "Setting up mongodb-org-tools (6.0.19) ...\n",
      "Setting up mongodb-org (6.0.19) ...\n",
      "Processing triggers for man-db (2.10.2-1) ...\n",
      "about to fork child process, waiting until server is ready for connections.\n",
      "forked process: 3497\n",
      "child process started successfully, parent exiting\n"
     ]
    }
   ],
   "source": [
    "\n",
    "!apt update\n",
    "!apt install wget curl gnupg2 software-properties-common apt-transport-https ca-certificates lsb-release\n",
    "!curl -fsSL https://www.mongodb.org/static/pgp/server-6.0.asc|sudo gpg --dearmor -o /etc/apt/trusted.gpg.d/mongodb-6.gpg\n",
    "!echo \"deb [ arch=amd64,arm64 ] https://repo.mongodb.org/apt/ubuntu $(lsb_release -cs)/mongodb-org/6.0 multiverse\" | tee /etc/apt/sources.list.d/mongodb-org-6.0.list\n",
    "!apt update\n",
    "!apt install mongodb-org\n",
    "!mkdir /data\n",
    "!mkdir /data/db\n",
    "!mongod --fork --logpath /var/log/mongodb/mongod.log"
   ]
  },
  {
   "cell_type": "code",
   "execution_count": 4,
   "metadata": {
    "colab": {
     "base_uri": "https://localhost:8080/"
    },
    "id": "F3FBHYX9m330",
    "outputId": "033cd0a0-802d-452d-ccd4-15f08063f079"
   },
   "outputs": [
    {
     "name": "stdout",
     "output_type": "stream",
     "text": [
      "Downloading...\n",
      "From: https://drive.google.com/uc?id=108aLE4mFE5bZYitFfX5c14Qj_aYA5MO_\n",
      "To: /content/pokedex.json\n",
      "\r  0% 0.00/2.95M [00:00<?, ?B/s]\r100% 2.95M/2.95M [00:00<00:00, 184MB/s]\n",
      "2024-11-14T00:05:55.370+0000\tconnected to: mongodb://localhost/\n",
      "2024-11-14T00:05:55.665+0000\t809 document(s) imported successfully. 0 document(s) failed to import.\n"
     ]
    }
   ],
   "source": [
    "\n",
    "!gdown https://drive.google.com/uc?id=108aLE4mFE5bZYitFfX5c14Qj_aYA5MO_\n",
    "!mongoimport --db local --collection pokedex --jsonArray < pokedex.json"
   ]
  },
  {
   "cell_type": "markdown",
   "metadata": {
    "id": "fcy-Y8V9pqRS"
   },
   "source": [
    "A continuación importaremos la librería de mongo para python, crearemos un cliente que se conectara a $\\texttt{localhost}$ por defecto, nos conectaremos a la base local, y luego a la colección pokedex la cual almacenaremos en la variable $\\texttt{collection}$."
   ]
  },
  {
   "cell_type": "code",
   "execution_count": 5,
   "metadata": {
    "id": "-duLZ321nB6e"
   },
   "outputs": [],
   "source": [
    "from pymongo import MongoClient\n",
    "client = MongoClient()\n",
    "client.list_database_names() # ['admin', 'local']\n",
    "db = client['local']\n",
    "collection = db['pokedex']"
   ]
  },
  {
   "cell_type": "markdown",
   "metadata": {
    "id": "H1qnSiAzq5gm"
   },
   "source": [
    "Para partir, podemos listar toda la colección usando el comando $\\texttt{collection.find({})}$. Para no saturar la salida, nos limitaremos a mirar el primero de los registros."
   ]
  },
  {
   "cell_type": "code",
   "execution_count": 6,
   "metadata": {
    "colab": {
     "base_uri": "https://localhost:8080/"
    },
    "id": "8NX7SGoRpD2Q",
    "outputId": "3827b4f9-977f-4e1d-abaa-a799aa5b4b62"
   },
   "outputs": [
    {
     "name": "stdout",
     "output_type": "stream",
     "text": [
      "{'Abilities': ['Overgrow', 'Chlorophyll'],\n",
      " 'Attack': 49,\n",
      " 'Capture Rate': 45,\n",
      " 'Category': 'Seed Pokémon',\n",
      " 'Defense': 49,\n",
      " 'Egg Steps': 5120,\n",
      " 'Exp Group': 'Medium Slow',\n",
      " 'HP': 45,\n",
      " 'Height (ft)': '2\\'04\"',\n",
      " 'Height (m)': 0.7,\n",
      " 'Id': '001',\n",
      " 'Moves': {'Double-Edge': {'Accuracy': 100,\n",
      "                           'Description': 'A reckless, life-risking tackle. '\n",
      "                                          'This also damages the user quite a '\n",
      "                                          'lot.',\n",
      "                           'Effect %': '--',\n",
      "                           'Level': 27,\n",
      "                           'PP': 15,\n",
      "                           'Power': 120,\n",
      "                           'Type': 'Normal'},\n",
      "           'Growl': {'Accuracy': 100,\n",
      "                     'Description': 'The user growls in an endearing way, '\n",
      "                                    'making opposing Pokémon less wary. This '\n",
      "                                    'lowers their Attack stat.',\n",
      "                     'Effect %': '--',\n",
      "                     'Level': 3,\n",
      "                     'PP': 40,\n",
      "                     'Power': '--',\n",
      "                     'Type': 'Normal'},\n",
      "           'Growth': {'Accuracy': '--',\n",
      "                      'Description': \"The user's body grows all at once, \"\n",
      "                                     'raising the Attack and Sp. Atk stats.',\n",
      "                      'Effect %': '--',\n",
      "                      'Level': 25,\n",
      "                      'PP': 20,\n",
      "                      'Power': '--',\n",
      "                      'Type': 'Normal'},\n",
      "           'Poison Powder': {'Accuracy': 75,\n",
      "                             'Description': 'The user scatters a cloud of '\n",
      "                                            'poisonous dust that poisons the '\n",
      "                                            'target.',\n",
      "                             'Effect %': '--',\n",
      "                             'Level': 13,\n",
      "                             'PP': 35,\n",
      "                             'Power': '--',\n",
      "                             'Type': 'Poison'},\n",
      "           'Razor Leaf': {'Accuracy': 95,\n",
      "                          'Description': 'Sharp-edged leaves are launched to '\n",
      "                                         'slash at the opposing Pokémon. '\n",
      "                                         'Critical hits land more easily.',\n",
      "                          'Effect %': '--',\n",
      "                          'Level': 19,\n",
      "                          'PP': 25,\n",
      "                          'Power': 55,\n",
      "                          'Type': 'Grass'},\n",
      "           'Seed Bomb': {'Accuracy': 100,\n",
      "                         'Description': 'The user slams a barrage of '\n",
      "                                        'hard-shelled seeds down on the target '\n",
      "                                        'from above.',\n",
      "                         'Effect %': '--',\n",
      "                         'Level': 37,\n",
      "                         'PP': 15,\n",
      "                         'Power': 80,\n",
      "                         'Type': 'Grass'},\n",
      "           'Sleep Powder': {'Accuracy': 75,\n",
      "                            'Description': 'The user scatters a big cloud of '\n",
      "                                           'sleep-inducing dust around the '\n",
      "                                           'target.',\n",
      "                            'Effect %': '--',\n",
      "                            'Level': 13,\n",
      "                            'PP': 15,\n",
      "                            'Power': '--',\n",
      "                            'Type': 'Grass'},\n",
      "           'Sweet Scent': {'Accuracy': 100,\n",
      "                           'Description': 'A sweet scent that harshly lowers '\n",
      "                                          \"opposing Pokémon's evasiveness.\",\n",
      "                           'Effect %': '--',\n",
      "                           'Level': 21,\n",
      "                           'PP': 20,\n",
      "                           'Power': '--',\n",
      "                           'Type': 'Normal'},\n",
      "           'Synthesis': {'Accuracy': '--',\n",
      "                         'Description': 'The user restores its own HP. The '\n",
      "                                        'amount of HP regained varies with the '\n",
      "                                        'weather.',\n",
      "                         'Effect %': '--',\n",
      "                         'Level': 33,\n",
      "                         'PP': 5,\n",
      "                         'Power': '--',\n",
      "                         'Type': 'Grass'},\n",
      "           'Tackle': {'Accuracy': 100,\n",
      "                      'Description': 'A physical attack in which the user '\n",
      "                                     'charges and slams into the target with '\n",
      "                                     'its whole body.',\n",
      "                      'Effect %': '--',\n",
      "                      'Level': '—',\n",
      "                      'PP': 35,\n",
      "                      'Power': 40,\n",
      "                      'Type': 'Normal'},\n",
      "           'Take Down': {'Accuracy': 85,\n",
      "                         'Description': 'A reckless, full-body charge attack '\n",
      "                                        'for slamming into the target. This '\n",
      "                                        'also damages the user a little.',\n",
      "                         'Effect %': '--',\n",
      "                         'Level': 15,\n",
      "                         'PP': 20,\n",
      "                         'Power': 90,\n",
      "                         'Type': 'Normal'},\n",
      "           'Vine Whip': {'Accuracy': 100,\n",
      "                         'Description': 'The target is struck with slender, '\n",
      "                                        'whiplike vines to inflict damage.',\n",
      "                         'Effect %': '--',\n",
      "                         'Level': 9,\n",
      "                         'PP': 25,\n",
      "                         'Power': 45,\n",
      "                         'Type': 'Grass'},\n",
      "           'Worry Seed': {'Accuracy': 100,\n",
      "                          'Description': 'A seed that causes worry is planted '\n",
      "                                         'on the target. It prevents sleep by '\n",
      "                                         \"making the target's Ability \"\n",
      "                                         'Insomnia.',\n",
      "                          'Effect %': '--',\n",
      "                          'Level': 31,\n",
      "                          'PP': 10,\n",
      "                          'Power': '--',\n",
      "                          'Type': 'Grass'}},\n",
      " 'Name': 'Bulbasaur',\n",
      " 'Sp. Attack': 65,\n",
      " 'Sp. Defense': 65,\n",
      " 'Speed': 45,\n",
      " 'Total': 318,\n",
      " 'Type 1': 'Grass',\n",
      " 'Type 2': 'Poison',\n",
      " 'Weight (kg)': 6.9,\n",
      " 'Weight (lbs)': 15.2,\n",
      " '_id': ObjectId('67353ec31cbb7cbb85bc02e0')}\n"
     ]
    }
   ],
   "source": [
    "import pprint\n",
    "for pokemon in collection.find({}).limit(1):\n",
    "    pprint.pprint(pokemon)"
   ]
  },
  {
   "cell_type": "markdown",
   "metadata": {
    "id": "dLU42N8srWv_"
   },
   "source": [
    "Fijense que aparte de los datos básicos del pokemon, también se presentan las habilidades (una lista de strings), y los movimientos (un arreglo asociativo/diccionario de los movimientos y sus detalles).\n",
    "\n",
    "Si queremos ahora listar los pokemones que se llaman $\\texttt{Charmander}$ podemos hacer la siguiente consulta:"
   ]
  },
  {
   "cell_type": "code",
   "execution_count": 7,
   "metadata": {
    "colab": {
     "base_uri": "https://localhost:8080/"
    },
    "id": "BgYUDtAUtdkL",
    "outputId": "761d99d1-2082-47f1-dad1-d9f17835ca2b"
   },
   "outputs": [
    {
     "name": "stdout",
     "output_type": "stream",
     "text": [
      "{'Abilities': ['Blaze', 'Solar Power'],\n",
      " 'Attack': 52,\n",
      " 'Capture Rate': 45,\n",
      " 'Category': 'Lizard Pokémon',\n",
      " 'Defense': 43,\n",
      " 'Egg Steps': 5120,\n",
      " 'Exp Group': 'Medium Slow',\n",
      " 'HP': 39,\n",
      " 'Height (ft)': '2\\'00\"',\n",
      " 'Height (m)': 0.6,\n",
      " 'Id': '004',\n",
      " 'Moves': {'Dragon Rage': {'Accuracy': 100,\n",
      "                           'Description': 'This attack hits the target with a '\n",
      "                                          'shock wave of pure rage. This '\n",
      "                                          'attack always inflicts 40 HP '\n",
      "                                          'damage.',\n",
      "                           'Effect %': '--',\n",
      "                           'Level': 16,\n",
      "                           'PP': 10,\n",
      "                           'Power': '??',\n",
      "                           'Type': 'Dragon'},\n",
      "           'Ember': {'Accuracy': 100,\n",
      "                     'Description': 'The target is attacked with small flames. '\n",
      "                                    'This may also leave the target with a '\n",
      "                                    'burn.',\n",
      "                     'Effect %': 10,\n",
      "                     'Level': 7,\n",
      "                     'PP': 25,\n",
      "                     'Power': 40,\n",
      "                     'Type': 'Fire'},\n",
      "           'Fire Fang': {'Accuracy': 95,\n",
      "                         'Description': 'The user bites with flame-cloaked '\n",
      "                                        'fangs. This may also make the target '\n",
      "                                        'flinch or leave it with a burn.',\n",
      "                         'Effect %': 20,\n",
      "                         'Level': 19,\n",
      "                         'PP': 15,\n",
      "                         'Power': 65,\n",
      "                         'Type': 'Fire'},\n",
      "           'Fire Spin': {'Accuracy': 85,\n",
      "                         'Description': 'The target becomes trapped within a '\n",
      "                                        'fierce vortex of fire that rages for '\n",
      "                                        'four to five turns.',\n",
      "                         'Effect %': 100,\n",
      "                         'Level': 37,\n",
      "                         'PP': 15,\n",
      "                         'Power': 35,\n",
      "                         'Type': 'Fire'},\n",
      "           'Flame Burst': {'Accuracy': 100,\n",
      "                           'Description': 'The user attacks the target with a '\n",
      "                                          'bursting flame. The bursting flame '\n",
      "                                          'damages Pokémon next to the target '\n",
      "                                          'as well.',\n",
      "                           'Effect %': '--',\n",
      "                           'Level': 25,\n",
      "                           'PP': 15,\n",
      "                           'Power': 70,\n",
      "                           'Type': 'Fire'},\n",
      "           'Flamethrower': {'Accuracy': 100,\n",
      "                            'Description': 'The target is scorched with an '\n",
      "                                           'intense blast of fire. This may '\n",
      "                                           'also leave the target with a burn.',\n",
      "                            'Effect %': 10,\n",
      "                            'Level': 34,\n",
      "                            'PP': 15,\n",
      "                            'Power': 90,\n",
      "                            'Type': 'Fire'},\n",
      "           'Growl': {'Accuracy': 100,\n",
      "                     'Description': 'The user growls in an endearing way, '\n",
      "                                    'making opposing Pokémon less wary. This '\n",
      "                                    'lowers their Attack stat.',\n",
      "                     'Effect %': '--',\n",
      "                     'Level': '—',\n",
      "                     'PP': 40,\n",
      "                     'Power': '--',\n",
      "                     'Type': 'Normal'},\n",
      "           'Inferno': {'Accuracy': 50,\n",
      "                       'Description': 'The user attacks by engulfing the '\n",
      "                                      'target in an intense fire. This leaves '\n",
      "                                      'the target with a burn.',\n",
      "                       'Effect %': 100,\n",
      "                       'Level': 43,\n",
      "                       'PP': 5,\n",
      "                       'Power': 100,\n",
      "                       'Type': 'Fire'},\n",
      "           'Scary Face': {'Accuracy': 100,\n",
      "                          'Description': 'The user frightens the target with a '\n",
      "                                         'scary face to harshly lower its '\n",
      "                                         'Speed stat.',\n",
      "                          'Effect %': '--',\n",
      "                          'Level': 40,\n",
      "                          'PP': 10,\n",
      "                          'Power': '--',\n",
      "                          'Type': 'Normal'},\n",
      "           'Scratch': {'Accuracy': 100,\n",
      "                       'Description': 'Hard, pointed, sharp claws rake the '\n",
      "                                      'target to inflict damage.',\n",
      "                       'Effect %': '--',\n",
      "                       'Level': '—',\n",
      "                       'PP': 35,\n",
      "                       'Power': 40,\n",
      "                       'Type': 'Normal'},\n",
      "           'Slash': {'Accuracy': 100,\n",
      "                     'Description': 'The target is attacked with a slash of '\n",
      "                                    'claws or blades. Critical hits land more '\n",
      "                                    'easily.',\n",
      "                     'Effect %': '--',\n",
      "                     'Level': 28,\n",
      "                     'PP': 20,\n",
      "                     'Power': 70,\n",
      "                     'Type': 'Normal'},\n",
      "           'Smokescreen': {'Accuracy': 100,\n",
      "                           'Description': 'The user releases an obscuring '\n",
      "                                          'cloud of smoke or ink. This lowers '\n",
      "                                          \"the target's accuracy.\",\n",
      "                           'Effect %': '--',\n",
      "                           'Level': 10,\n",
      "                           'PP': 20,\n",
      "                           'Power': '--',\n",
      "                           'Type': 'Normal'}},\n",
      " 'Name': 'Charmander',\n",
      " 'Sp. Attack': 60,\n",
      " 'Sp. Defense': 50,\n",
      " 'Speed': 65,\n",
      " 'Total': 309,\n",
      " 'Type 1': 'Fire',\n",
      " 'Type 2': 'None',\n",
      " 'Weight (kg)': 8.5,\n",
      " 'Weight (lbs)': 18.7,\n",
      " '_id': ObjectId('67353ec31cbb7cbb85bc02e2')}\n",
      "{'Abilities': ['Blaze', 'Solar Power'],\n",
      " 'Attack': 52,\n",
      " 'Capture Rate': 45,\n",
      " 'Category': 'Lizard Pokémon',\n",
      " 'Defense': 43,\n",
      " 'Egg Steps': 5120,\n",
      " 'Exp Group': 'Medium Slow',\n",
      " 'HP': 39,\n",
      " 'Height (ft)': '2\\'00\"',\n",
      " 'Height (m)': 0.6,\n",
      " 'Id': '004',\n",
      " 'Moves': {'Dragon Rage': {'Accuracy': 100,\n",
      "                           'Description': 'This attack hits the target with a '\n",
      "                                          'shock wave of pure rage. This '\n",
      "                                          'attack always inflicts 40 HP '\n",
      "                                          'damage.',\n",
      "                           'Effect %': '--',\n",
      "                           'Level': 16,\n",
      "                           'PP': 10,\n",
      "                           'Power': '??',\n",
      "                           'Type': 'Dragon'},\n",
      "           'Ember': {'Accuracy': 100,\n",
      "                     'Description': 'The target is attacked with small flames. '\n",
      "                                    'This may also leave the target with a '\n",
      "                                    'burn.',\n",
      "                     'Effect %': 10,\n",
      "                     'Level': 7,\n",
      "                     'PP': 25,\n",
      "                     'Power': 40,\n",
      "                     'Type': 'Fire'},\n",
      "           'Fire Fang': {'Accuracy': 95,\n",
      "                         'Description': 'The user bites with flame-cloaked '\n",
      "                                        'fangs. This may also make the target '\n",
      "                                        'flinch or leave it with a burn.',\n",
      "                         'Effect %': 20,\n",
      "                         'Level': 19,\n",
      "                         'PP': 15,\n",
      "                         'Power': 65,\n",
      "                         'Type': 'Fire'},\n",
      "           'Fire Spin': {'Accuracy': 85,\n",
      "                         'Description': 'The target becomes trapped within a '\n",
      "                                        'fierce vortex of fire that rages for '\n",
      "                                        'four to five turns.',\n",
      "                         'Effect %': 100,\n",
      "                         'Level': 37,\n",
      "                         'PP': 15,\n",
      "                         'Power': 35,\n",
      "                         'Type': 'Fire'},\n",
      "           'Flame Burst': {'Accuracy': 100,\n",
      "                           'Description': 'The user attacks the target with a '\n",
      "                                          'bursting flame. The bursting flame '\n",
      "                                          'damages Pokémon next to the target '\n",
      "                                          'as well.',\n",
      "                           'Effect %': '--',\n",
      "                           'Level': 25,\n",
      "                           'PP': 15,\n",
      "                           'Power': 70,\n",
      "                           'Type': 'Fire'},\n",
      "           'Flamethrower': {'Accuracy': 100,\n",
      "                            'Description': 'The target is scorched with an '\n",
      "                                           'intense blast of fire. This may '\n",
      "                                           'also leave the target with a burn.',\n",
      "                            'Effect %': 10,\n",
      "                            'Level': 34,\n",
      "                            'PP': 15,\n",
      "                            'Power': 90,\n",
      "                            'Type': 'Fire'},\n",
      "           'Growl': {'Accuracy': 100,\n",
      "                     'Description': 'The user growls in an endearing way, '\n",
      "                                    'making opposing Pokémon less wary. This '\n",
      "                                    'lowers their Attack stat.',\n",
      "                     'Effect %': '--',\n",
      "                     'Level': '—',\n",
      "                     'PP': 40,\n",
      "                     'Power': '--',\n",
      "                     'Type': 'Normal'},\n",
      "           'Inferno': {'Accuracy': 50,\n",
      "                       'Description': 'The user attacks by engulfing the '\n",
      "                                      'target in an intense fire. This leaves '\n",
      "                                      'the target with a burn.',\n",
      "                       'Effect %': 100,\n",
      "                       'Level': 43,\n",
      "                       'PP': 5,\n",
      "                       'Power': 100,\n",
      "                       'Type': 'Fire'},\n",
      "           'Scary Face': {'Accuracy': 100,\n",
      "                          'Description': 'The user frightens the target with a '\n",
      "                                         'scary face to harshly lower its '\n",
      "                                         'Speed stat.',\n",
      "                          'Effect %': '--',\n",
      "                          'Level': 40,\n",
      "                          'PP': 10,\n",
      "                          'Power': '--',\n",
      "                          'Type': 'Normal'},\n",
      "           'Scratch': {'Accuracy': 100,\n",
      "                       'Description': 'Hard, pointed, sharp claws rake the '\n",
      "                                      'target to inflict damage.',\n",
      "                       'Effect %': '--',\n",
      "                       'Level': '—',\n",
      "                       'PP': 35,\n",
      "                       'Power': 40,\n",
      "                       'Type': 'Normal'},\n",
      "           'Slash': {'Accuracy': 100,\n",
      "                     'Description': 'The target is attacked with a slash of '\n",
      "                                    'claws or blades. Critical hits land more '\n",
      "                                    'easily.',\n",
      "                     'Effect %': '--',\n",
      "                     'Level': 28,\n",
      "                     'PP': 20,\n",
      "                     'Power': 70,\n",
      "                     'Type': 'Normal'},\n",
      "           'Smokescreen': {'Accuracy': 100,\n",
      "                           'Description': 'The user releases an obscuring '\n",
      "                                          'cloud of smoke or ink. This lowers '\n",
      "                                          \"the target's accuracy.\",\n",
      "                           'Effect %': '--',\n",
      "                           'Level': 10,\n",
      "                           'PP': 20,\n",
      "                           'Power': '--',\n",
      "                           'Type': 'Normal'}},\n",
      " 'Name': 'Charmander',\n",
      " 'Sp. Attack': 60,\n",
      " 'Sp. Defense': 50,\n",
      " 'Speed': 65,\n",
      " 'Total': 309,\n",
      " 'Type 1': 'Fire',\n",
      " 'Type 2': 'None',\n",
      " 'Weight (kg)': 8.5,\n",
      " 'Weight (lbs)': 18.7,\n",
      " '_id': ObjectId('67353ee3461f8d2643e7ce0a')}\n"
     ]
    }
   ],
   "source": [
    "for pokemon in collection.find({'Name': 'Charmander'}):\n",
    "    pprint.pprint(pokemon)"
   ]
  },
  {
   "cell_type": "markdown",
   "metadata": {
    "id": "djZYDni4vEHK"
   },
   "source": [
    "Y si queremos proyectar algunos de sus atributos lo hacemos tal como si fuera un diccionario:"
   ]
  },
  {
   "cell_type": "code",
   "execution_count": 9,
   "metadata": {
    "colab": {
     "base_uri": "https://localhost:8080/"
    },
    "id": "VdjGX_wyvMEZ",
    "outputId": "4f66db32-fe90-47d9-f4ca-012dc1aeccb4"
   },
   "outputs": [
    {
     "name": "stdout",
     "output_type": "stream",
     "text": [
      "100 ['Synchronize']\n",
      "100 ['Synchronize']\n"
     ]
    }
   ],
   "source": [
    "for pokemon in collection.find({'Name': 'Mew'}):\n",
    "    print(pokemon['Speed'],pokemon['Abilities'])"
   ]
  },
  {
   "cell_type": "markdown",
   "metadata": {
    "id": "I2VnDNwHuSxM"
   },
   "source": [
    "Recomendamos hechar un vistazo [aquí](https://docs.mongodb.com/manual/tutorial/query-documents/) para ver otros ejemplos de consultas que utilizarán en las siguientes preguntas:"
   ]
  },
  {
   "cell_type": "markdown",
   "metadata": {
    "id": "J_3DbzoAuvPu"
   },
   "source": [
    "#Pregunta 1\n",
    "Encuentre los nombre de los pokemons que pesen mas de 150kg.\n",
    "[Ordene](https://www.w3schools.com/python/python_mongodb_sort.asp) los resultados por peso descendiente"
   ]
  },
  {
   "cell_type": "code",
   "execution_count": null,
   "metadata": {
    "colab": {
     "base_uri": "https://localhost:8080/"
    },
    "id": "FIYMF7BSsYM5",
    "outputId": "b3c53fa9-4edf-4917-f5b6-a735331be259"
   },
   "outputs": [],
   "source": []
  },
  {
   "cell_type": "markdown",
   "metadata": {
    "id": "QbgODMWRzjcX"
   },
   "source": [
    "#Pregunta 2\n",
    "Encuentre los nombres de los pokemones ''Glass cannon'', que son los que tienen ataque sobre 120 y defensa bajo 50."
   ]
  },
  {
   "cell_type": "code",
   "execution_count": null,
   "metadata": {
    "colab": {
     "base_uri": "https://localhost:8080/"
    },
    "id": "BAuRx2oZzwVf",
    "outputId": "a285d833-2566-4ac4-a804-3adb5b2ff609"
   },
   "outputs": [],
   "source": []
  },
  {
   "cell_type": "markdown",
   "metadata": {
    "id": "d7lB2vkh0yFq"
   },
   "source": [
    "#Pregunta 3\n",
    "Encuentre los pokemones \"defensivos\", que son los que tienen ya sea defensa, hp, o defensa especial (sp. defense) mayor o igual a 120."
   ]
  },
  {
   "cell_type": "code",
   "execution_count": null,
   "metadata": {
    "colab": {
     "base_uri": "https://localhost:8080/"
    },
    "id": "A1UwKkaE0Qv3",
    "outputId": "789162b8-d191-4f6b-b337-6070751532b6"
   },
   "outputs": [],
   "source": []
  },
  {
   "cell_type": "markdown",
   "metadata": {
    "id": "vWKkWAl74R6O"
   },
   "source": [
    "#Pregunta 4\n",
    "Seleccione los pokemones que tienen el movimiento $\\texttt{Take Down}$ de nivel 15.\n",
    "\n",
    "**Hint**: Puede consultar en diccionarios embebidos concatenando las llaves con un punto \".\".\n",
    "\n",
    "Por ejemplo, para un dato:\n",
    "```\n",
    "[{\n",
    "  a: {\n",
    "    b: 'foo'\n",
    "  }\n",
    "}]\n",
    "```\n",
    "se puede consultar por los documentos tal que $\\texttt{b}$ sea $\\texttt{foo}$, escribiendo $\\texttt{collection.find({'a.b': 'foo'})}$."
   ]
  },
  {
   "cell_type": "code",
   "execution_count": null,
   "metadata": {
    "colab": {
     "base_uri": "https://localhost:8080/"
    },
    "id": "Y_cykeWb4DdT",
    "outputId": "baa32a0d-c4c8-4994-990d-6dec78e59d28"
   },
   "outputs": [],
   "source": []
  },
  {
   "cell_type": "markdown",
   "metadata": {
    "id": "MOD9S2hd2TNb"
   },
   "source": [
    "#Pregunta 5\n",
    "Seleccione los pokemones que tienen el movimiento $\\texttt{Take Down}$.\n",
    "\n",
    "**Hint**: Puede testear si es que una llave existe utilizando [$exists](https://docs.mongodb.com/manual/reference/operator/query/exists/)"
   ]
  },
  {
   "cell_type": "code",
   "execution_count": null,
   "metadata": {
    "colab": {
     "base_uri": "https://localhost:8080/"
    },
    "id": "CnhaYoEQ1TyT",
    "outputId": "d559a97c-5f8d-4c0e-9328-fb7ff89c47c9"
   },
   "outputs": [],
   "source": []
  },
  {
   "cell_type": "markdown",
   "metadata": {
    "id": "fslrlRMV41jc"
   },
   "source": [
    "#Pregunta 6\n",
    "1. Seleccione los pokemones que tienen la habilidad $\\texttt{Telepathy}$\n"
   ]
  },
  {
   "cell_type": "code",
   "execution_count": null,
   "metadata": {
    "colab": {
     "base_uri": "https://localhost:8080/"
    },
    "id": "rIBpykKuENYH",
    "outputId": "e0f6303d-b0d7-47d5-a8b8-834c4e5d5c7a"
   },
   "outputs": [],
   "source": []
  },
  {
   "cell_type": "markdown",
   "metadata": {
    "id": "Qwxi9yxdEDo6"
   },
   "source": [
    "2. Seleccione los pokemones que tienen la habilidad $\\texttt{Telepathy}$\n",
    " **y** $\\texttt{Synchronize}$ (pueden tener mas habilidades aparte de estas dos.\n",
    "\n",
    "   **Hint**: puede utilizar el operador [$all](https://docs.mongodb.com/manual/tutorial/query-arrays/) ."
   ]
  },
  {
   "cell_type": "code",
   "execution_count": null,
   "metadata": {
    "colab": {
     "base_uri": "https://localhost:8080/"
    },
    "id": "oRIzCWC45HOb",
    "outputId": "100e64ba-083a-4356-8e11-6189c2120d58"
   },
   "outputs": [],
   "source": []
  },
  {
   "cell_type": "markdown",
   "metadata": {
    "id": "OXO4tdys9SuC"
   },
   "source": [
    "#Pregunta 7\n",
    "Para la siguiente pregunta vamos a crear un índice sobre la columna $\\texttt{Category}$."
   ]
  },
  {
   "cell_type": "code",
   "execution_count": null,
   "metadata": {
    "colab": {
     "base_uri": "https://localhost:8080/",
     "height": 35
    },
    "id": "VM2gTzMA9-tl",
    "outputId": "4f7aa6bb-e4f0-4582-de41-830a46db3b19"
   },
   "outputs": [
    {
     "data": {
      "application/vnd.google.colaboratory.intrinsic+json": {
       "type": "string"
      },
      "text/plain": [
       "'Category_text'"
      ]
     },
     "execution_count": 17,
     "metadata": {},
     "output_type": "execute_result"
    }
   ],
   "source": []
  },
  {
   "cell_type": "markdown",
   "metadata": {
    "id": "_GhQq0Zc_Qbn"
   },
   "source": [
    "Usando el operador [$text](https://docs.mongodb.com/manual/text-search/) responda a las siguientes consultas.\n",
    "1.  Devuelva los nombres y categorías de los pokemons tales que su categoría contenga ya sea la palabra **Sea** o **Gas**."
   ]
  },
  {
   "cell_type": "code",
   "execution_count": null,
   "metadata": {
    "colab": {
     "base_uri": "https://localhost:8080/"
    },
    "id": "Y4W9G87Y9HzR",
    "outputId": "eaec8ee8-9408-4116-9e54-19881bbb80bb"
   },
   "outputs": [],
   "source": []
  },
  {
   "cell_type": "markdown",
   "metadata": {
    "id": "m8PuYBiiCWwQ"
   },
   "source": [
    "2. Devuelva los nombres y categorías de los pokemons tales que su categoría contenga la palabra **Sea** y no **Deep**."
   ]
  },
  {
   "cell_type": "code",
   "execution_count": null,
   "metadata": {
    "colab": {
     "base_uri": "https://localhost:8080/"
    },
    "id": "PHdr_c-XCjdZ",
    "outputId": "33a78e16-2240-4ed0-cde7-13755d90ce56"
   },
   "outputs": [],
   "source": []
  },
  {
   "cell_type": "markdown",
   "metadata": {
    "id": "aaWgzFeSCrHN"
   },
   "source": [
    "3. Devuelva los nombres y categorías de los pokemons tales que su categoría contenga ambas palabras **Sea** y **Lion**."
   ]
  },
  {
   "cell_type": "code",
   "execution_count": null,
   "metadata": {
    "colab": {
     "base_uri": "https://localhost:8080/"
    },
    "id": "_D0QACY5CqgJ",
    "outputId": "938597ae-83e5-49e5-823d-ae2545126b80"
   },
   "outputs": [],
   "source": []
  }
 ],
 "metadata": {
  "colab": {
   "provenance": []
  },
  "kernelspec": {
   "display_name": "Python 3",
   "name": "python3"
  },
  "language_info": {
   "name": "python"
  }
 },
 "nbformat": 4,
 "nbformat_minor": 0
}
