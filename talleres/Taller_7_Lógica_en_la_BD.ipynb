{
  "nbformat": 4,
  "nbformat_minor": 0,
  "metadata": {
    "colab": {
      "provenance": [],
      "collapsed_sections": [
        "OoykvfP4IEsU",
        "FuMM5eOcJW5e",
        "GcrKMy-xKCDe",
        "3jebBz5VWWPr",
        "X2XpwyqAGWgW"
      ]
    },
    "kernelspec": {
      "name": "python3",
      "display_name": "Python 3"
    }
  },
  "cells": [
    {
      "cell_type": "markdown",
      "metadata": {
        "id": "vMe_cruNz0t3"
      },
      "source": [
        "#Taller 7 - Lógica en la BD\n",
        "\n",
        "\n",
        "#Enunciado\n",
        "Su grupo cuenta con una base de datos con las siguientes tablas:\n",
        "\n",
        "TABLE cliente (\n",
        "*   id integer PRIMARY KEY,\n",
        "*   nombre character varying(100),\n",
        "* email character varying(100) NOT NULL,\n",
        "*    telefono bigint NOT NULL,\n",
        "*   clave character varying(12) NOT NULL\n",
        ");\n",
        "\n",
        "TABLE plato (\n",
        "*    id SERIAL PRIMARY KEY\n",
        "*   nombre character varying(100),\n",
        "*    descripcion character varying(500),\n",
        "*    ingredientes character varying(500),\n",
        "*    precio integer\n",
        ");\n",
        "\n",
        "TABLE pedido (\n",
        "*    id integer,\n",
        "*   cliente integer,\n",
        "*   plato character varying(100),\n",
        "*   fecha date,\n",
        "*   hora time\n",
        ");\n",
        "\n",
        "\n",
        "# Configuración inicial\n",
        "\n",
        "a.- Para iniciar el servidor virtual, instalar la base de datos postgres,  importar los datos, debe correr el siguiente bloque:\n"
      ]
    },
    {
      "cell_type": "code",
      "metadata": {
        "id": "xN9MrCqDyMym",
        "collapsed": true
      },
      "source": [
        "# install\n",
        "!apt update\n",
        "!apt install postgresql postgresql-contrib &>log\n",
        "!service postgresql start\n",
        "!sudo -u postgres psql -c \"CREATE USER root WITH SUPERUSER\"\n",
        "# set connection\n",
        "%load_ext sql\n",
        "%config SqlMagic.feedback=False\n",
        "%config SqlMagic.autopandas=True\n",
        "%sql postgresql+psycopg2://@/postgres\n",
        "!wget -cO - https://drive.google.com/uc\\?export\\=download\\&id\\=12BmcD9VmQYzLqTcLNEN1kNrZ457WZf5o > /content/dump.sql\n",
        "\n",
        "#!wget https://drive.google.com/file/d/12BmcD9VmQYzLqTcLNEN1kNrZ457WZf5o/view?usp=sharing -o /content/dump.sql\n",
        "# !wget https://drive.google.com/file/d/12BmcD9VmQYzLqTcLNEN1kNrZ457WZf5o/view?usp=drive_link -o /content/dump.sql\n",
        "!psql postgres < /content/dump.sql\n",
        "%sql set search_path to prueba;"
      ],
      "execution_count": null,
      "outputs": []
    },
    {
      "cell_type": "markdown",
      "metadata": {
        "id": "ydn64zTV5o9m"
      },
      "source": [
        "b.- Ejecute la siguiente consulta para validar que la tabla cliente está cargada"
      ]
    },
    {
      "cell_type": "code",
      "source": [
        "%sql select * from cliente;"
      ],
      "metadata": {
        "id": "AohA2vsufFVn",
        "collapsed": true
      },
      "execution_count": null,
      "outputs": []
    },
    {
      "cell_type": "markdown",
      "source": [
        "\n",
        "c.- Ejecute la siguiente consulta para validar que la tabla cliente tabla pedido está cargada"
      ],
      "metadata": {
        "id": "4vNfgPx_fdqf"
      }
    },
    {
      "cell_type": "code",
      "source": [
        "%sql select * from pedido;"
      ],
      "metadata": {
        "id": "VwC0lNPifsft",
        "collapsed": true
      },
      "execution_count": null,
      "outputs": []
    },
    {
      "cell_type": "markdown",
      "source": [
        "d.- Ejecute la siguiente consulta para validar que la tabla plato está cargada"
      ],
      "metadata": {
        "id": "gIYVsTwofvU9"
      }
    },
    {
      "cell_type": "code",
      "metadata": {
        "id": "YswMeCEv2NKP",
        "collapsed": true
      },
      "source": [
        "%sql select * from plato;"
      ],
      "execution_count": null,
      "outputs": []
    },
    {
      "cell_type": "markdown",
      "metadata": {
        "id": "ETAuRqPi5vxa"
      },
      "source": [
        "NOTAS: Para ejecutar consultas\n",
        "* Linea simple use el tag %sql\n",
        "* multi-lineas use el tag %%sql:"
      ]
    },
    {
      "cell_type": "markdown",
      "source": [
        "## PREGUNTAS\n",
        "## PREGUNTA 1\n",
        "Crear una **TABLA TEMPORAL** llamada \"Carrito\", que corresponde a un carrito de compras conteniendo 1 solo pedido de 1 cliente (su numero de grupo) con múltiples platos y que contiene los siguientes atributos:\n",
        "* idCliente, el número identificador del cliente\n",
        "*idPlato, el número identificador del plato\n",
        "* Cantidad, la cantidad de platos del pedido\n",
        "\n",
        "# los datos son los siguientes:\n",
        "\n",
        "* numero-de-grupo 31 1\n",
        "* numero-de-grupo 32 2\n",
        "* numero-de-grupo 33 3\n",
        "* numero-de-grupo 34 4\n",
        "* numero-de-grupo 35 5"
      ],
      "metadata": {
        "id": "OoykvfP4IEsU"
      }
    },
    {
      "cell_type": "code",
      "source": [],
      "metadata": {
        "id": "3q6pdoStIHIv",
        "collapsed": true
      },
      "execution_count": null,
      "outputs": []
    },
    {
      "cell_type": "markdown",
      "source": [
        "## PREGUNTA 2\n",
        "Crear una **TABLA** llamada \"Solicitud\" que corresponde a una solicitud de despacho para el delivery (no se debe especificar el delivery a usar) los atributos son:\n",
        "* id, identificador  de la solicitud, serial\n",
        "* idCliente, el número identificador del cliente\n",
        "* idPedido, el número del pedido"
      ],
      "metadata": {
        "id": "FuMM5eOcJW5e"
      }
    },
    {
      "cell_type": "markdown",
      "source": [],
      "metadata": {
        "id": "Y9jAIizsJLZB"
      }
    },
    {
      "cell_type": "code",
      "source": [],
      "metadata": {
        "id": "1ZmMuInzJ9l9"
      },
      "execution_count": null,
      "outputs": []
    },
    {
      "cell_type": "markdown",
      "source": [
        "## PREGUNTA 3\n",
        "Crear una **VISTA** (view) llamada \"Valor\" conteniendo el valor total del pedido (1 tupla) y desplegarla, la vista contiene los siguientes atributos:\n",
        "idCliente, el número identificador del cliente\n",
        "Valor, consistente en el valor total del pedido"
      ],
      "metadata": {
        "id": "GcrKMy-xKCDe"
      }
    },
    {
      "cell_type": "code",
      "source": [],
      "metadata": {
        "id": "fiudGyo4KW6a"
      },
      "execution_count": null,
      "outputs": []
    },
    {
      "cell_type": "markdown",
      "metadata": {
        "id": "3jebBz5VWWPr"
      },
      "source": [
        "\n",
        "## Pregunta 4\n",
        "Crear un **TRIGGER**  llamado \"InsertaSolicitud\" que cada vez que se inserte una compra  desde el carrito genere una solicitud de despacho (tabla Solicitud).\n",
        "* Para probarlo ejecute la siguiente sentencia:\n",
        "%%sql INSERT INTO pedido(id, cliente, plato, fecha, hora)\n",
        "SELECT idcliente, idcliente, STRING_AGG(CAST(idplato AS CHAR(3)), ' '), CURRENT_DATE, CURRENT_TIME\n",
        "FROM carrito\n",
        "GROUP BY idcliente;\n",
        "* Para mostrar el resultado ejecute\n",
        "%%sql SELECT * from Solicitud where idCliente = numero-de-grupo\n"
      ]
    },
    {
      "cell_type": "code",
      "source": [],
      "metadata": {
        "id": "NODqFDjSGV3F",
        "collapsed": true
      },
      "execution_count": null,
      "outputs": []
    },
    {
      "cell_type": "markdown",
      "source": [
        "## Pregunta 5\n",
        "Crear un **STORED PROCEDURE** llamado \"ListaPedidos\" que genere una lista de todos los pedidos de un cliente ingresado como parámetro y desplegarla ordenado por fecha (no hora)\n",
        "\n"
      ],
      "metadata": {
        "id": "X2XpwyqAGWgW"
      }
    },
    {
      "cell_type": "code",
      "source": [],
      "metadata": {
        "collapsed": true,
        "id": "W99YabffeswZ"
      },
      "execution_count": null,
      "outputs": []
    },
    {
      "cell_type": "markdown",
      "source": [
        "Para probarlo ejecute SELECT * FROM ListaPedidos (numero-de-grupo);"
      ],
      "metadata": {
        "id": "kbFWOC5uHKx8"
      }
    }
  ]
}